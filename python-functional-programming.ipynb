{
 "cells": [
  {
   "cell_type": "code",
   "execution_count": null,
   "metadata": {
    "slideshow": {
     "slide_type": "skip"
    }
   },
   "outputs": [],
   "source": [
    "import os\n",
    "from time import sleep"
   ]
  },
  {
   "cell_type": "markdown",
   "metadata": {
    "slideshow": {
     "slide_type": "slide"
    }
   },
   "source": [
    "# Functional Programming in Python"
   ]
  },
  {
   "cell_type": "markdown",
   "metadata": {
    "slideshow": {
     "slide_type": "slide"
    }
   },
   "source": [
    "## What to do\n",
    "* Write functions, not classes\n",
    "* Avoid \"inplace\" data manipulation and side effects\n",
    "* Use immutable data structures / treat data structures as immutable\n",
    "* To combine and configure functionality, pass functions as parameters"
   ]
  },
  {
   "cell_type": "markdown",
   "metadata": {
    "slideshow": {
     "slide_type": "slide"
    }
   },
   "source": [
    "## Benefits\n",
    "&rarr; Keeps code repeatable: Same function with same input = same output\n",
    "\n",
    "&rarr; Better reusability\n",
    "\n",
    "&rarr; Easier debugging\n",
    "\n",
    "&rarr; Works great with REPL- or Jupyter-driven development\n",
    "\n",
    "&rarr; Parallelising is easy if there is no shared state!\n",
    "\n",
    "&rarr; No more messy inheritance\n",
    "\n",
    "&rarr; More straight-forward serialisation"
   ]
  },
  {
   "cell_type": "markdown",
   "metadata": {
    "slideshow": {
     "slide_type": "slide"
    },
    "toc-hr-collapsed": false
   },
   "source": [
    "# Intro"
   ]
  },
  {
   "cell_type": "markdown",
   "metadata": {
    "slideshow": {
     "slide_type": "fragment"
    }
   },
   "source": [
    "Often, we create classes as a storage for a configuration before execution:"
   ]
  },
  {
   "cell_type": "code",
   "execution_count": null,
   "metadata": {
    "slideshow": {
     "slide_type": "fragment"
    }
   },
   "outputs": [],
   "source": [
    "class HelloSayer:\n",
    "    def __init__(self, name: str) -> None:\n",
    "        self.name = name\n",
    "        \n",
    "    def say_hello(self):\n",
    "        print(f'Hello {self.name}')"
   ]
  },
  {
   "cell_type": "markdown",
   "metadata": {
    "slideshow": {
     "slide_type": "slide"
    }
   },
   "source": [
    "To execute the function, we need to first initialise an instance of the class and then call its method:"
   ]
  },
  {
   "cell_type": "code",
   "execution_count": null,
   "metadata": {
    "slideshow": {
     "slide_type": "fragment"
    }
   },
   "outputs": [],
   "source": [
    "obj = HelloSayer('EuroPython')\n",
    "obj.say_hello()"
   ]
  },
  {
   "cell_type": "markdown",
   "metadata": {
    "slideshow": {
     "slide_type": "slide"
    }
   },
   "source": [
    "This is fairly verbose, considering that all we really need is:"
   ]
  },
  {
   "cell_type": "code",
   "execution_count": null,
   "metadata": {
    "slideshow": {
     "slide_type": "fragment"
    }
   },
   "outputs": [],
   "source": [
    "def say_hello(name: str):\n",
    "    print(f'Hello {name}')"
   ]
  },
  {
   "cell_type": "markdown",
   "metadata": {
    "slideshow": {
     "slide_type": "fragment"
    }
   },
   "source": [
    "Which we can then simply call:"
   ]
  },
  {
   "cell_type": "code",
   "execution_count": null,
   "metadata": {
    "slideshow": {
     "slide_type": "fragment"
    }
   },
   "outputs": [],
   "source": [
    "say_hello('better code!')"
   ]
  },
  {
   "cell_type": "markdown",
   "metadata": {
    "slideshow": {
     "slide_type": "fragment"
    }
   },
   "source": [
    "*Note*: Strictly speaking, the above is not a pure function, as `print` is a side effect. We'll get better later on."
   ]
  },
  {
   "cell_type": "markdown",
   "metadata": {
    "slideshow": {
     "slide_type": "slide"
    }
   },
   "source": [
    "## Builtins: `functools`\n",
    "What if you would like to configure a function before using it? There are actually tools to do that, e.g. `functools.partial`:"
   ]
  },
  {
   "cell_type": "code",
   "execution_count": null,
   "metadata": {
    "slideshow": {
     "slide_type": "fragment"
    }
   },
   "outputs": [],
   "source": [
    "from functools import partial\n",
    "\n",
    "say_hello_to_functools = partial(say_hello, name='functools')"
   ]
  },
  {
   "cell_type": "code",
   "execution_count": null,
   "metadata": {
    "slideshow": {
     "slide_type": "fragment"
    }
   },
   "outputs": [],
   "source": [
    "say_hello_to_functools()"
   ]
  },
  {
   "cell_type": "markdown",
   "metadata": {
    "slideshow": {
     "slide_type": "slide"
    }
   },
   "source": [
    "Remember that you can pass functions as arguments, too. So, now you can combine functions:"
   ]
  },
  {
   "cell_type": "code",
   "execution_count": null,
   "metadata": {
    "slideshow": {
     "slide_type": "fragment"
    }
   },
   "outputs": [],
   "source": [
    "def do_a_few_things(*functions):\n",
    "    \"\"\"\n",
    "    Calls all functions passed (without any arguments)\n",
    "    \"\"\"\n",
    "    for function in functions:\n",
    "        function()"
   ]
  },
  {
   "cell_type": "code",
   "execution_count": null,
   "metadata": {
    "slideshow": {
     "slide_type": "slide"
    }
   },
   "outputs": [],
   "source": [
    "do_a_few_things(\n",
    "    say_hello_to_functools,\n",
    "    partial(say_hello, name='EuroPython'),\n",
    "    partial(print, \"Isn't this great?\")\n",
    ")"
   ]
  },
  {
   "cell_type": "markdown",
   "metadata": {
    "slideshow": {
     "slide_type": "slide"
    }
   },
   "source": [
    "Now, as mentioned before, we don't really want side effects, which includes use of the `print` statement. So let's re-write our function without:"
   ]
  },
  {
   "cell_type": "code",
   "execution_count": null,
   "metadata": {
    "slideshow": {
     "slide_type": "fragment"
    }
   },
   "outputs": [],
   "source": [
    "def greeting(name: str):\n",
    "    return f'Hello {name}'"
   ]
  },
  {
   "cell_type": "markdown",
   "metadata": {
    "slideshow": {
     "slide_type": "slide"
    }
   },
   "source": [
    "Because we don't have the side effect any more, it does actually not matter anymore when and where we execute the function, i.e. it's easier to parallelise, and easier to combine with other functionality.\n",
    "\n",
    "But we do want to print the results. But how? Easy:"
   ]
  },
  {
   "cell_type": "code",
   "execution_count": null,
   "metadata": {
    "slideshow": {
     "slide_type": "fragment"
    }
   },
   "outputs": [],
   "source": [
    "def print_all(*args):\n",
    "    [print(arg) for arg in args]\n",
    "\n",
    "print_all(\n",
    "    greeting('EuroPython'),\n",
    "    greeting('Everyone'),\n",
    "    greeting('Beautiful code'),\n",
    ")"
   ]
  },
  {
   "cell_type": "markdown",
   "metadata": {
    "slideshow": {
     "slide_type": "slide"
    }
   },
   "source": [
    "## Builtins: list comprehensions, `map`, `filter`, `reduce`"
   ]
  },
  {
   "cell_type": "markdown",
   "metadata": {
    "slideshow": {
     "slide_type": "slide"
    }
   },
   "source": [
    "Quite often we want to apply a function or calculation to each item in an existing list, ending up with constructs like this:"
   ]
  },
  {
   "cell_type": "code",
   "execution_count": null,
   "metadata": {
    "slideshow": {
     "slide_type": "fragment"
    }
   },
   "outputs": [],
   "source": [
    "inputs = range(10)\n",
    "\n",
    "outputs = []\n",
    "for x in inputs:\n",
    "    result = (7 * x) ** 3\n",
    "    outputs.append(result)\n",
    "    \n",
    "outputs"
   ]
  },
  {
   "cell_type": "markdown",
   "metadata": {
    "slideshow": {
     "slide_type": "slide"
    }
   },
   "source": [
    "This is not only verbose. It is also computationally expensive as you're explicitly appending to a list. It is also very prone to errors (e.g. using it multiple times without resetting `outputs`. \n",
    "\n",
    "It can be solved much more elegantly with a list comprehension:"
   ]
  },
  {
   "cell_type": "code",
   "execution_count": null,
   "metadata": {
    "slideshow": {
     "slide_type": "fragment"
    }
   },
   "outputs": [],
   "source": [
    "[(7 * x) ** 3 for x in inputs]"
   ]
  },
  {
   "cell_type": "markdown",
   "metadata": {
    "slideshow": {
     "slide_type": "fragment"
    }
   },
   "source": [
    "... or you can \"map\" your inputs over a (lambda) function:"
   ]
  },
  {
   "cell_type": "code",
   "execution_count": null,
   "metadata": {
    "slideshow": {
     "slide_type": "fragment"
    }
   },
   "outputs": [],
   "source": [
    "list(map(lambda x: (7 * x) ** 3, inputs))"
   ]
  },
  {
   "cell_type": "markdown",
   "metadata": {
    "slideshow": {
     "slide_type": "subslide"
    }
   },
   "source": [
    "*Note*: `map` is executed \"lazily\", i.e. it returns a generator. By calling `list()`, we force eager execution and collect all the values into a python list."
   ]
  },
  {
   "cell_type": "markdown",
   "metadata": {
    "slideshow": {
     "slide_type": "slide"
    }
   },
   "source": [
    "You can separate this further, which is especially useful for more complex functions to be applied to each element in the list:"
   ]
  },
  {
   "cell_type": "code",
   "execution_count": null,
   "metadata": {
    "slideshow": {
     "slide_type": "fragment"
    }
   },
   "outputs": [],
   "source": [
    "def my_calculation(x):\n",
    "    \"\"\"\n",
    "    Returns my calculation for one input.\n",
    "    Having this as a separate function separates concerns and makes it very usable!\n",
    "    \"\"\"\n",
    "    return (7 * x) ** 3"
   ]
  },
  {
   "cell_type": "code",
   "execution_count": null,
   "metadata": {
    "slideshow": {
     "slide_type": "fragment"
    }
   },
   "outputs": [],
   "source": [
    "list(map(my_calculation, inputs))"
   ]
  },
  {
   "cell_type": "markdown",
   "metadata": {
    "slideshow": {
     "slide_type": "slide"
    }
   },
   "source": [
    "The functions `filter` and `reduce` work very similarly:"
   ]
  },
  {
   "cell_type": "code",
   "execution_count": null,
   "metadata": {
    "slideshow": {
     "slide_type": "fragment"
    }
   },
   "outputs": [],
   "source": [
    "list(filter(lambda x: x < 10000, outputs))"
   ]
  },
  {
   "cell_type": "code",
   "execution_count": null,
   "metadata": {
    "slideshow": {
     "slide_type": "fragment"
    }
   },
   "outputs": [],
   "source": [
    "from functools import reduce\n",
    "\n",
    "reduce(lambda x, y: (x + y) / 2, outputs)"
   ]
  },
  {
   "cell_type": "markdown",
   "metadata": {
    "slideshow": {
     "slide_type": "slide"
    }
   },
   "source": [
    "# Picking up the pace...\n",
    "Up to here, this was an introduction to some basic functionality. Let's jump in a bit deeper and try out some libraries."
   ]
  },
  {
   "cell_type": "markdown",
   "metadata": {
    "slideshow": {
     "slide_type": "slide"
    }
   },
   "source": [
    "## Easy multithreading with `pmap`\n",
    "This is essentially the `map` function from earlier, but parallelised automatically!"
   ]
  },
  {
   "cell_type": "code",
   "execution_count": null,
   "metadata": {
    "slideshow": {
     "slide_type": "fragment"
    }
   },
   "outputs": [],
   "source": [
    "!pip install python-pmap"
   ]
  },
  {
   "cell_type": "code",
   "execution_count": null,
   "metadata": {
    "slideshow": {
     "slide_type": "slide"
    }
   },
   "outputs": [],
   "source": [
    "def my_slow_function(x):\n",
    "    sleep(1)  # artificially make this function slow\n",
    "    return x**2"
   ]
  },
  {
   "cell_type": "code",
   "execution_count": null,
   "metadata": {
    "slideshow": {
     "slide_type": "fragment"
    }
   },
   "outputs": [],
   "source": [
    "%%time\n",
    "[my_slow_function(x) for x in range(10)]"
   ]
  },
  {
   "cell_type": "code",
   "execution_count": null,
   "metadata": {
    "slideshow": {
     "slide_type": "fragment"
    }
   },
   "outputs": [],
   "source": [
    "%%time\n",
    "list(map(my_slow_function, range(10)))"
   ]
  },
  {
   "cell_type": "code",
   "execution_count": null,
   "metadata": {
    "slideshow": {
     "slide_type": "fragment"
    }
   },
   "outputs": [],
   "source": [
    "%%time\n",
    "from pmap import pmap\n",
    "\n",
    "list(pmap(my_slow_function, range(10)))"
   ]
  },
  {
   "cell_type": "markdown",
   "metadata": {
    "slideshow": {
     "slide_type": "slide"
    }
   },
   "source": [
    "## `toolz`\n",
    "The [toolz](https://toolz.readthedocs.io/en/latest/api.html) library is incredibly useful for functional programming in python. Here are just a few examples:"
   ]
  },
  {
   "cell_type": "code",
   "execution_count": null,
   "metadata": {
    "slideshow": {
     "slide_type": "slide"
    }
   },
   "outputs": [],
   "source": [
    "from toolz import *\n",
    "\n",
    "d = {\n",
    "    'some': 123,\n",
    "    'values': 42,\n",
    "    'in': 1,\n",
    "    'a': 96,\n",
    "    'dictionary': 17\n",
    "}"
   ]
  },
  {
   "cell_type": "code",
   "execution_count": null,
   "metadata": {
    "slideshow": {
     "slide_type": "slide"
    }
   },
   "outputs": [],
   "source": [
    "# apply map to keys only\n",
    "keymap('{}_post'.format, d)"
   ]
  },
  {
   "cell_type": "code",
   "execution_count": null,
   "metadata": {
    "slideshow": {
     "slide_type": "slide"
    }
   },
   "outputs": [],
   "source": [
    "# apply map to values only\n",
    "valmap((100).__mul__, d)"
   ]
  },
  {
   "cell_type": "markdown",
   "metadata": {
    "slideshow": {
     "slide_type": "fragment"
    }
   },
   "source": [
    "*Note*: In `python-pmap`, there are parallelised versions for these as well, called `pkeymap` and `pvalmap`"
   ]
  },
  {
   "cell_type": "code",
   "execution_count": null,
   "metadata": {
    "slideshow": {
     "slide_type": "slide"
    }
   },
   "outputs": [],
   "source": [
    "def iseven(x): \n",
    "    return x % 2 == 0\n",
    "\n",
    "groupby(iseven, [1, 2, 3, 4, 5, 6, 7, 8])"
   ]
  },
  {
   "cell_type": "code",
   "execution_count": null,
   "metadata": {
    "slideshow": {
     "slide_type": "slide"
    }
   },
   "outputs": [],
   "source": [
    "d1 = {'k1': 1, 'k2': 2}\n",
    "d2 = {'k1': 4,          'k3': 3}"
   ]
  },
  {
   "cell_type": "code",
   "execution_count": null,
   "metadata": {
    "slideshow": {
     "slide_type": "fragment"
    }
   },
   "outputs": [],
   "source": [
    "merge(d1, d2)  # meres dictionaries (latest overwrites)"
   ]
  },
  {
   "cell_type": "code",
   "execution_count": null,
   "metadata": {
    "slideshow": {
     "slide_type": "fragment"
    }
   },
   "outputs": [],
   "source": [
    "merge_with(sum, d1, d2)  # merges by summing values up"
   ]
  },
  {
   "cell_type": "markdown",
   "metadata": {
    "slideshow": {
     "slide_type": "slide"
    }
   },
   "source": [
    "There are lots and lots of useful functions there, just try them out! One of my favourites is `thread_last` - although I won't show that here, and instead will show `coconut`'s piping later"
   ]
  },
  {
   "cell_type": "markdown",
   "metadata": {
    "slideshow": {
     "slide_type": "slide"
    }
   },
   "source": [
    "# Pandas\n",
    "Yes, pandas can be used in a functional way, mainly by not changing dataframes inplace, and by not assigning columns directly."
   ]
  },
  {
   "cell_type": "code",
   "execution_count": null,
   "metadata": {
    "slideshow": {
     "slide_type": "slide"
    }
   },
   "outputs": [],
   "source": [
    "import pandas as pd\n",
    "\n",
    "df = pd.DataFrame(pd.np.random.random((5,3)), columns=list('abc'))\n",
    "df"
   ]
  },
  {
   "cell_type": "markdown",
   "metadata": {
    "slideshow": {
     "slide_type": "slide"
    }
   },
   "source": [
    "Instead of something like:\n",
    "\n",
    "```python\n",
    "df['sum'] = df.sum(axis=1)\n",
    "```\n",
    "\n",
    "use `df.assign`:"
   ]
  },
  {
   "cell_type": "code",
   "execution_count": null,
   "metadata": {
    "slideshow": {
     "slide_type": "fragment"
    }
   },
   "outputs": [],
   "source": [
    "df.assign(sum=df.sum(axis=1))"
   ]
  },
  {
   "cell_type": "markdown",
   "metadata": {
    "slideshow": {
     "slide_type": "slide"
    }
   },
   "source": [
    "Note how this did *not* change the original dataframe, i.e. if you jump around cells in your notebook, outputs will not change:"
   ]
  },
  {
   "cell_type": "code",
   "execution_count": null,
   "metadata": {
    "slideshow": {
     "slide_type": "fragment"
    }
   },
   "outputs": [],
   "source": [
    "df"
   ]
  },
  {
   "cell_type": "markdown",
   "metadata": {
    "slideshow": {
     "slide_type": "slide"
    }
   },
   "source": [
    "You can chain these expressions, use lambdas; and of course you can assign them to a new variable:"
   ]
  },
  {
   "cell_type": "code",
   "execution_count": null,
   "metadata": {
    "slideshow": {
     "slide_type": "fragment"
    }
   },
   "outputs": [],
   "source": [
    "df_transformed = (df\n",
    "    .assign(sum=lambda df: df.sum(axis=1))\n",
    "    .assign(a_percent=lambda df: df['a'] / df['sum'])\n",
    "    .drop(index=[1,3]))\n",
    "\n",
    "df_transformed"
   ]
  },
  {
   "cell_type": "markdown",
   "metadata": {
    "slideshow": {
     "slide_type": "fragment"
    }
   },
   "source": [
    "Doing this consistently will make your data transformations more reliable and repeatable."
   ]
  },
  {
   "cell_type": "markdown",
   "metadata": {
    "slideshow": {
     "slide_type": "slide"
    }
   },
   "source": [
    "# `functools`: `singledispatch`\n",
    "You may have asked yourself how to \"translate\" object oriented constructs such as inheritance and method overloading to the functional world. A very powerful tool to do this is \"dispatching\" to different implementations of a function depending on its inputs.\n",
    "\n",
    "Python comes with a simple construct to do this: `singledispatch`. It can dispatch only on the type of the first argument to a function:"
   ]
  },
  {
   "cell_type": "code",
   "execution_count": null,
   "metadata": {
    "slideshow": {
     "slide_type": "fragment"
    }
   },
   "outputs": [],
   "source": [
    "from functools import singledispatch"
   ]
  },
  {
   "cell_type": "code",
   "execution_count": null,
   "metadata": {
    "slideshow": {
     "slide_type": "slide"
    }
   },
   "outputs": [],
   "source": [
    "@singledispatch\n",
    "def negate(x):\n",
    "    \"\"\"\n",
    "    negate a value, default implementation (returns -x)\n",
    "    \"\"\"\n",
    "    return -x"
   ]
  },
  {
   "cell_type": "code",
   "execution_count": null,
   "metadata": {
    "scrolled": true,
    "slideshow": {
     "slide_type": "fragment"
    }
   },
   "outputs": [],
   "source": [
    "negate(5)"
   ]
  },
  {
   "cell_type": "code",
   "execution_count": null,
   "metadata": {
    "slideshow": {
     "slide_type": "fragment"
    }
   },
   "outputs": [],
   "source": [
    "negate('hello')"
   ]
  },
  {
   "cell_type": "code",
   "execution_count": null,
   "metadata": {
    "slideshow": {
     "slide_type": "slide"
    }
   },
   "outputs": [],
   "source": [
    "@negate.register(str)\n",
    "def negate_str(x):\n",
    "    return f'the opposite of {x}'"
   ]
  },
  {
   "cell_type": "code",
   "execution_count": null,
   "metadata": {
    "slideshow": {
     "slide_type": "fragment"
    }
   },
   "outputs": [],
   "source": [
    "negate('hello')"
   ]
  },
  {
   "cell_type": "code",
   "execution_count": null,
   "metadata": {
    "slideshow": {
     "slide_type": "fragment"
    }
   },
   "outputs": [],
   "source": [
    "negate(5)"
   ]
  },
  {
   "cell_type": "markdown",
   "metadata": {
    "slideshow": {
     "slide_type": "slide"
    }
   },
   "source": [
    "## `multimethodic` (multi-dispatch)\n",
    "A more powerful dispatch mechanism is implemented in the `multimethodic` package. As it is more flexible, you will have to define its dispatcher:"
   ]
  },
  {
   "cell_type": "code",
   "execution_count": null,
   "metadata": {
    "slideshow": {
     "slide_type": "fragment"
    }
   },
   "outputs": [],
   "source": [
    "from multimethodic import MultiMethod, Default"
   ]
  },
  {
   "cell_type": "code",
   "execution_count": null,
   "metadata": {
    "slideshow": {
     "slide_type": "slide"
    }
   },
   "outputs": [],
   "source": [
    "def dispatch_by_two_types(x, y):\n",
    "    return type(x), type(y)\n",
    "\n",
    "multiply_or_repeat = MultiMethod('multiply_or_repeat', dispatch_by_two_types)"
   ]
  },
  {
   "cell_type": "code",
   "execution_count": null,
   "metadata": {
    "slideshow": {
     "slide_type": "fragment"
    }
   },
   "outputs": [],
   "source": [
    "@multiply_or_repeat.method(Default)\n",
    "def multiply_or_repeat_default(x, y):\n",
    "    return x * y"
   ]
  },
  {
   "cell_type": "code",
   "execution_count": null,
   "metadata": {
    "slideshow": {
     "slide_type": "fragment"
    }
   },
   "outputs": [],
   "source": [
    "@multiply_or_repeat.method((str, int))\n",
    "def multiply_or_repeat_with_str(x, y):\n",
    "    return ', '.join([x for _ in range(y)])"
   ]
  },
  {
   "cell_type": "code",
   "execution_count": null,
   "metadata": {
    "slideshow": {
     "slide_type": "slide"
    }
   },
   "outputs": [],
   "source": [
    "multiply_or_repeat(6, 3)"
   ]
  },
  {
   "cell_type": "code",
   "execution_count": null,
   "metadata": {
    "slideshow": {
     "slide_type": "fragment"
    }
   },
   "outputs": [],
   "source": [
    "multiply_or_repeat('Hello', 3)"
   ]
  },
  {
   "cell_type": "markdown",
   "metadata": {
    "slideshow": {
     "slide_type": "slide"
    }
   },
   "source": [
    "# Coconut\n",
    "[Coconut](http://coconut-lang.org/) is a functional language extension to python and has some very concise, functional constructs. Although the language support in common IDEs is not great yet, it can be a very neat, clean and fast way to write functional, beautiful, repeatable and parallelisable code.\n",
    "\n",
    "Installation is easy:"
   ]
  },
  {
   "cell_type": "code",
   "execution_count": null,
   "metadata": {
    "slideshow": {
     "slide_type": "fragment"
    }
   },
   "outputs": [],
   "source": [
    "!pip install coconut\n",
    "!coconut --jupyter"
   ]
  },
  {
   "cell_type": "code",
   "execution_count": null,
   "metadata": {
    "slideshow": {
     "slide_type": "slide"
    }
   },
   "outputs": [],
   "source": [
    "%load_ext coconut"
   ]
  },
  {
   "cell_type": "markdown",
   "metadata": {
    "slideshow": {
     "slide_type": "fragment"
    }
   },
   "source": [
    "You can either change the notebook kernel to coconut, or you can use the `%%coconut` magic to mark a jupyter cell as coconut"
   ]
  },
  {
   "cell_type": "markdown",
   "metadata": {
    "slideshow": {
     "slide_type": "slide"
    }
   },
   "source": [
    "## Simple Example\n",
    "Let's look at this fairly simple piece of functional python:"
   ]
  },
  {
   "cell_type": "code",
   "execution_count": null,
   "metadata": {
    "slideshow": {
     "slide_type": "fragment"
    }
   },
   "outputs": [],
   "source": [
    "inputs = range(1,30)\n",
    "\n",
    "def my_function(x):\n",
    "    return x ** 3 % 1000\n",
    "\n",
    "mapped = list(map(my_function, inputs))\n",
    "filtered = list(filter(lambda x: x < 100, mapped))\n",
    "\n",
    "filtered"
   ]
  },
  {
   "cell_type": "markdown",
   "metadata": {
    "slideshow": {
     "slide_type": "slide"
    }
   },
   "source": [
    "To make this more concise, we could nest the functions:"
   ]
  },
  {
   "cell_type": "code",
   "execution_count": null,
   "metadata": {
    "slideshow": {
     "slide_type": "fragment"
    }
   },
   "outputs": [],
   "source": [
    "list(filter(lambda x: x < 100, map(my_function, inputs)))"
   ]
  },
  {
   "cell_type": "markdown",
   "metadata": {
    "slideshow": {
     "slide_type": "slide"
    }
   },
   "source": [
    "That is more concise, but it becomes trickier to read -- in particular regarding the order of execution. Please don't do this in your, it's only to illustrate how Coconut can help write cleaner, more concise code! \n",
    "\n",
    "As a first improvement, we can use a pipe operator `|>`, taking the input on the left and, one step at a time, applying functions in order of reading: from left to right."
   ]
  },
  {
   "cell_type": "code",
   "execution_count": null,
   "metadata": {
    "slideshow": {
     "slide_type": "fragment"
    }
   },
   "outputs": [],
   "source": [
    "%%coconut\n",
    "inputs |> partial(map, my_function) |> partial(filter, lambda x: x < 100) |> list"
   ]
  },
  {
   "cell_type": "markdown",
   "metadata": {
    "slideshow": {
     "slide_type": "slide"
    }
   },
   "source": [
    "Still not perfect yet... Really, those calls to `partial` are not nice to read. Coconut a trick for that as well: A `$` between a function name and its opening bracket makes that call a `partial` assignment. Using that we get:"
   ]
  },
  {
   "cell_type": "code",
   "execution_count": null,
   "metadata": {
    "slideshow": {
     "slide_type": "fragment"
    }
   },
   "outputs": [],
   "source": [
    "%%coconut\n",
    "inputs |> map$(my_function) |> filter$(lambda x: x < 100) |> list"
   ]
  },
  {
   "cell_type": "markdown",
   "metadata": {
    "slideshow": {
     "slide_type": "slide"
    }
   },
   "source": [
    "And, using coconut's arrow syntax for functions, parallelising with `pmap`, and a bit of formatting:"
   ]
  },
  {
   "cell_type": "code",
   "execution_count": null,
   "metadata": {
    "slideshow": {
     "slide_type": "fragment"
    }
   },
   "outputs": [],
   "source": [
    "%%coconut\n",
    "(inputs \n",
    " |> pmap$(my_function) \n",
    " |> filter$(x -> x < 100) \n",
    " |> list)"
   ]
  },
  {
   "cell_type": "markdown",
   "metadata": {
    "slideshow": {
     "slide_type": "slide"
    }
   },
   "source": [
    "Really, this is just the tip of the iceberg. If you like the concept, read more on the coconut website [coconut-lang.org](http://coconut-lang.org/)"
   ]
  }
 ],
 "metadata": {
  "kernelspec": {
   "display_name": "Python 3",
   "language": "python",
   "name": "python3"
  },
  "language_info": {
   "codemirror_mode": {
    "name": "ipython",
    "version": 3
   },
   "file_extension": ".py",
   "mimetype": "text/x-python",
   "name": "python",
   "nbconvert_exporter": "python",
   "pygments_lexer": "ipython3",
   "version": "3.6.5"
  },
  "toc-showtags": false
 },
 "nbformat": 4,
 "nbformat_minor": 4
}
